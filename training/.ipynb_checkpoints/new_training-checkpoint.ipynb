{
 "cells": [
  {
   "cell_type": "markdown",
   "metadata": {},
   "source": [
    "Importing necessary libraries and setting up constants"
   ]
  },
  {
   "cell_type": "code",
   "execution_count": 2,
   "metadata": {},
   "outputs": [
    {
     "name": "stdout",
     "output_type": "stream",
     "text": [
      "WARNING:tensorflow:From C:\\Users\\Seward\\Python\\lib\\site-packages\\keras\\src\\losses.py:2976: The name tf.losses.sparse_softmax_cross_entropy is deprecated. Please use tf.compat.v1.losses.sparse_softmax_cross_entropy instead.\n",
      "\n"
     ]
    }
   ],
   "source": [
    "import tensorflow as tf\n",
    "from tensorflow.keras import models, layers\n",
    "import matplotlib.pyplot as plt\n",
    "\n",
    "IMAGE_SIZE = 256\n",
    "BATCH_SIZE = 32\n",
    "CHANNELS = 3"
   ]
  },
  {
   "cell_type": "markdown",
   "metadata": {},
   "source": [
    "Loading the dataset and partitioning it into training, validation, and test sets"
   ]
  },
  {
   "cell_type": "code",
   "execution_count": 4,
   "metadata": {},
   "outputs": [
    {
     "name": "stdout",
     "output_type": "stream",
     "text": [
      "Found 14529 files belonging to 10 classes.\n"
     ]
    }
   ],
   "source": [
    "dataset = tf.keras.preprocessing.image_dataset_from_directory(\n",
    "    \"plantvillage\",\n",
    "    shuffle=True,\n",
    "    image_size = (IMAGE_SIZE, IMAGE_SIZE),\n",
    "    batch_size = BATCH_SIZE\n",
    ")\n",
    "\n",
    "def partition_dataset(dataset, train_size=0.8, val_size=0.1, test_size=0.1, buffer_size=100):\n",
    "    dataset = dataset.shuffle(buffer_size)\n",
    "    n = len(dataset)\n",
    "    train_n = int(train_size * n)\n",
    "    val_n = int(val_size * n)\n",
    "    train_dataset = dataset.take(train_n)\n",
    "    val_dataset = dataset.skip(train_n).take(val_n)\n",
    "    test_dataset = dataset.skip(train_n + val_n)\n",
    "    return train_dataset, val_dataset, test_dataset\n",
    "\n",
    "train_dataset, val_dataset, test_dataset = partition_dataset(dataset)"
   ]
  },
  {
   "cell_type": "markdown",
   "metadata": {},
   "source": [
    "Preprocessing the datasets for performance"
   ]
  },
  {
   "cell_type": "code",
   "execution_count": 3,
   "metadata": {},
   "outputs": [],
   "source": [
    "train_dataset = train_dataset.cache().shuffle(1000).prefetch(buffer_size=tf.data.AUTOTUNE)\n",
    "val_dataset = val_dataset.cache().shuffle(1000).prefetch(buffer_size=tf.data.AUTOTUNE)\n",
    "test_dataset = test_dataset.cache().shuffle(1000).prefetch(buffer_size=tf.data.AUTOTUNE)"
   ]
  },
  {
   "cell_type": "markdown",
   "metadata": {},
   "source": [
    "Defining the model architecture and compiling it"
   ]
  },
  {
   "cell_type": "code",
   "execution_count": 4,
   "metadata": {},
   "outputs": [
    {
     "name": "stdout",
     "output_type": "stream",
     "text": [
      "WARNING:tensorflow:From C:\\Users\\Seward\\Python\\lib\\site-packages\\keras\\src\\backend.py:873: The name tf.get_default_graph is deprecated. Please use tf.compat.v1.get_default_graph instead.\n",
      "\n",
      "WARNING:tensorflow:From C:\\Users\\Seward\\Python\\lib\\site-packages\\keras\\src\\layers\\pooling\\max_pooling2d.py:161: The name tf.nn.max_pool is deprecated. Please use tf.nn.max_pool2d instead.\n",
      "\n",
      "WARNING:tensorflow:From C:\\Users\\Seward\\Python\\lib\\site-packages\\keras\\src\\optimizers\\__init__.py:309: The name tf.train.Optimizer is deprecated. Please use tf.compat.v1.train.Optimizer instead.\n",
      "\n"
     ]
    }
   ],
   "source": [
    "input_shape = (BATCH_SIZE, IMAGE_SIZE, IMAGE_SIZE, CHANNELS)\n",
    "n_classes = 10\n",
    "\n",
    "resize_and_rescale = tf.keras.Sequential([\n",
    "    layers.experimental.preprocessing.Resizing(IMAGE_SIZE, IMAGE_SIZE),\n",
    "    layers.experimental.preprocessing.Rescaling(1.0/255)\n",
    "])\n",
    "\n",
    "data_augmentation = tf.keras.Sequential([\n",
    "    layers.experimental.preprocessing.RandomFlip(\"horizontal_and_vertical\"),\n",
    "    layers.experimental.preprocessing.RandomRotation(0.2)\n",
    "])\n",
    "\n",
    "model = models.Sequential([\n",
    "    resize_and_rescale,\n",
    "    data_augmentation,\n",
    "    layers.Conv2D(32, (3,3), activation = 'relu', input_shape = input_shape),\n",
    "    layers.MaxPooling2D((2,2)),\n",
    "    layers.Conv2D(64, (3,3), activation = 'relu'),\n",
    "    layers.MaxPooling2D((2,2)),\n",
    "    layers.Conv2D(64, (3,3), activation = 'relu'),\n",
    "    layers.MaxPooling2D((2,2)),\n",
    "    layers.Conv2D(64, (3,3), activation = 'relu'),\n",
    "    layers.MaxPooling2D((2,2)),\n",
    "    layers.Conv2D(64, (3,3), activation = 'relu'),\n",
    "    layers.MaxPooling2D((2,2)),\n",
    "    layers.Conv2D(64, (3,3), activation = 'relu'),\n",
    "    layers.MaxPooling2D((2,2)),\n",
    "    layers.Flatten(),\n",
    "    layers.Dense(64, activation = 'relu'),\n",
    "    layers.Dense(n_classes, activation='softmax'),\n",
    "])\n",
    "\n",
    "model.build(input_shape = input_shape)\n",
    "model.compile(\n",
    "    optimizer = 'adam',\n",
    "    loss = tf.keras.losses.SparseCategoricalCrossentropy(from_logits=False),\n",
    "    metrics = ['accuracy']\n",
    ")"
   ]
  },
  {
   "cell_type": "markdown",
   "metadata": {},
   "source": [
    "Training the model and evaluating it on the test dataset"
   ]
  },
  {
   "cell_type": "code",
   "execution_count": 5,
   "metadata": {
    "scrolled": true
   },
   "outputs": [
    {
     "name": "stdout",
     "output_type": "stream",
     "text": [
      "Epoch 1/25\n",
      "WARNING:tensorflow:From C:\\Users\\Seward\\Python\\lib\\site-packages\\keras\\src\\utils\\tf_utils.py:492: The name tf.ragged.RaggedTensorValue is deprecated. Please use tf.compat.v1.ragged.RaggedTensorValue instead.\n",
      "\n",
      "WARNING:tensorflow:From C:\\Users\\Seward\\Python\\lib\\site-packages\\keras\\src\\engine\\base_layer_utils.py:384: The name tf.executing_eagerly_outside_functions is deprecated. Please use tf.compat.v1.executing_eagerly_outside_functions instead.\n",
      "\n",
      "364/364 [==============================] - 570s 1s/step - loss: 1.6592 - accuracy: 0.4244 - val_loss: 1.2517 - val_accuracy: 0.5642\n",
      "Epoch 2/25\n",
      "364/364 [==============================] - 470s 1s/step - loss: 1.0696 - accuracy: 0.6338 - val_loss: 1.0062 - val_accuracy: 0.6487\n",
      "Epoch 3/25\n",
      "364/364 [==============================] - 456s 1s/step - loss: 0.7547 - accuracy: 0.7360 - val_loss: 0.6911 - val_accuracy: 0.7566\n",
      "Epoch 4/25\n",
      "364/364 [==============================] - 457s 1s/step - loss: 0.5629 - accuracy: 0.8002 - val_loss: 0.6486 - val_accuracy: 0.7637\n",
      "Epoch 5/25\n",
      "364/364 [==============================] - 452s 1s/step - loss: 0.4777 - accuracy: 0.8322 - val_loss: 0.4933 - val_accuracy: 0.8282\n",
      "Epoch 6/25\n",
      "364/364 [==============================] - 452s 1s/step - loss: 0.4045 - accuracy: 0.8579 - val_loss: 0.4917 - val_accuracy: 0.8254\n",
      "Epoch 7/25\n",
      "364/364 [==============================] - 450s 1s/step - loss: 0.3501 - accuracy: 0.8759 - val_loss: 0.6534 - val_accuracy: 0.8041\n",
      "Epoch 8/25\n",
      "364/364 [==============================] - 466s 1s/step - loss: 0.3422 - accuracy: 0.8809 - val_loss: 0.7276 - val_accuracy: 0.7956\n",
      "Epoch 9/25\n",
      "364/364 [==============================] - 454s 1s/step - loss: 0.2960 - accuracy: 0.8975 - val_loss: 0.2789 - val_accuracy: 0.9056\n",
      "Epoch 10/25\n",
      "364/364 [==============================] - 454s 1s/step - loss: 0.2799 - accuracy: 0.9019 - val_loss: 0.3826 - val_accuracy: 0.8637\n",
      "Epoch 11/25\n",
      "364/364 [==============================] - 458s 1s/step - loss: 0.2367 - accuracy: 0.9171 - val_loss: 0.2966 - val_accuracy: 0.9013\n",
      "Epoch 12/25\n",
      "364/364 [==============================] - 464s 1s/step - loss: 0.2178 - accuracy: 0.9239 - val_loss: 0.3731 - val_accuracy: 0.8715\n",
      "Epoch 13/25\n",
      "364/364 [==============================] - 469s 1s/step - loss: 0.2168 - accuracy: 0.9257 - val_loss: 0.4163 - val_accuracy: 0.8779\n",
      "Epoch 14/25\n",
      "364/364 [==============================] - 463s 1s/step - loss: 0.2125 - accuracy: 0.9235 - val_loss: 0.3447 - val_accuracy: 0.8843\n",
      "Epoch 15/25\n",
      "364/364 [==============================] - 481s 1s/step - loss: 0.1885 - accuracy: 0.9326 - val_loss: 0.2177 - val_accuracy: 0.9212\n",
      "Epoch 16/25\n",
      "364/364 [==============================] - 489s 1s/step - loss: 0.1877 - accuracy: 0.9343 - val_loss: 0.2015 - val_accuracy: 0.9283\n",
      "Epoch 17/25\n",
      "364/364 [==============================] - 566s 2s/step - loss: 0.1688 - accuracy: 0.9392 - val_loss: 0.2526 - val_accuracy: 0.9198\n",
      "Epoch 18/25\n",
      "364/364 [==============================] - 548s 2s/step - loss: 0.1550 - accuracy: 0.9445 - val_loss: 0.2895 - val_accuracy: 0.9049\n",
      "Epoch 19/25\n",
      "364/364 [==============================] - 558s 2s/step - loss: 0.1542 - accuracy: 0.9445 - val_loss: 0.2386 - val_accuracy: 0.9191\n",
      "Epoch 20/25\n",
      "364/364 [==============================] - 555s 2s/step - loss: 0.1458 - accuracy: 0.9523 - val_loss: 0.1202 - val_accuracy: 0.9567\n",
      "Epoch 21/25\n",
      "364/364 [==============================] - 554s 2s/step - loss: 0.1459 - accuracy: 0.9496 - val_loss: 0.1885 - val_accuracy: 0.9368\n",
      "Epoch 22/25\n",
      "364/364 [==============================] - 560s 2s/step - loss: 0.1566 - accuracy: 0.9459 - val_loss: 0.1317 - val_accuracy: 0.9524\n",
      "Epoch 23/25\n",
      "364/364 [==============================] - 564s 2s/step - loss: 0.1369 - accuracy: 0.9536 - val_loss: 0.1574 - val_accuracy: 0.9461\n",
      "Epoch 24/25\n",
      "364/364 [==============================] - 557s 2s/step - loss: 0.1206 - accuracy: 0.9607 - val_loss: 0.1242 - val_accuracy: 0.9539\n",
      "Epoch 25/25\n",
      "364/364 [==============================] - 604s 2s/step - loss: 0.1232 - accuracy: 0.9572 - val_loss: 0.2182 - val_accuracy: 0.9276\n",
      "46/46 [==============================] - 27s 213ms/step - loss: 0.1859 - accuracy: 0.9389\n"
     ]
    }
   ],
   "source": [
    "EPOCHS = 25\n",
    "\n",
    "history = model.fit(\n",
    "    train_dataset,\n",
    "    epochs = EPOCHS,\n",
    "    batch_size =BATCH_SIZE,\n",
    "    verbose=1,\n",
    "    validation_data = val_dataset\n",
    ")\n",
    "\n",
    "scores = model.evaluate(test_dataset)"
   ]
  },
  {
   "cell_type": "markdown",
   "metadata": {},
   "source": [
    "Saving the trained model"
   ]
  },
  {
   "cell_type": "code",
   "execution_count": 6,
   "metadata": {},
   "outputs": [
    {
     "name": "stdout",
     "output_type": "stream",
     "text": [
      "INFO:tensorflow:Assets written to: ../models/1\\assets\n"
     ]
    },
    {
     "name": "stderr",
     "output_type": "stream",
     "text": [
      "INFO:tensorflow:Assets written to: ../models/1\\assets\n"
     ]
    }
   ],
   "source": [
    "model_version = 1\n",
    "model.save(f\"../models/{model_version}\")"
   ]
  },
  {
   "cell_type": "code",
   "execution_count": 3,
   "metadata": {},
   "outputs": [
    {
     "name": "stdout",
     "output_type": "stream",
     "text": [
      "WARNING:tensorflow:From C:\\Users\\Seward\\Python\\lib\\site-packages\\keras\\src\\saving\\legacy\\saved_model\\load.py:107: The name tf.gfile.Exists is deprecated. Please use tf.io.gfile.exists instead.\n",
      "\n",
      "WARNING:tensorflow:From C:\\Users\\Seward\\Python\\lib\\site-packages\\keras\\src\\layers\\pooling\\max_pooling2d.py:161: The name tf.nn.max_pool is deprecated. Please use tf.nn.max_pool2d instead.\n",
      "\n",
      "WARNING:tensorflow:From C:\\Users\\Seward\\Python\\lib\\site-packages\\keras\\src\\backend.py:1967: The name tf.executing_eagerly_outside_functions is deprecated. Please use tf.compat.v1.executing_eagerly_outside_functions instead.\n",
      "\n"
     ]
    }
   ],
   "source": [
    "model = tf.keras.models.load_model('../models/1')"
   ]
  },
  {
   "cell_type": "code",
   "execution_count": 5,
   "metadata": {},
   "outputs": [
    {
     "name": "stdout",
     "output_type": "stream",
     "text": [
      "WARNING:tensorflow:From C:\\Users\\Seward\\Python\\lib\\site-packages\\keras\\src\\utils\\tf_utils.py:492: The name tf.ragged.RaggedTensorValue is deprecated. Please use tf.compat.v1.ragged.RaggedTensorValue instead.\n",
      "\n",
      "46/46 [==============================] - 21s 200ms/step - loss: 0.2067 - accuracy: 0.9355\n"
     ]
    }
   ],
   "source": [
    "scores = model.evaluate(test_dataset)"
   ]
  },
  {
   "cell_type": "code",
   "execution_count": 6,
   "metadata": {},
   "outputs": [
    {
     "data": {
      "text/plain": [
       "[0.20674142241477966, 0.9354614615440369]"
      ]
     },
     "execution_count": 6,
     "metadata": {},
     "output_type": "execute_result"
    }
   ],
   "source": [
    "scores"
   ]
  }
 ],
 "metadata": {
  "kernelspec": {
   "display_name": "Python 3 (ipykernel)",
   "language": "python",
   "name": "python3"
  },
  "language_info": {
   "codemirror_mode": {
    "name": "ipython",
    "version": 3
   },
   "file_extension": ".py",
   "mimetype": "text/x-python",
   "name": "python",
   "nbconvert_exporter": "python",
   "pygments_lexer": "ipython3",
   "version": "3.10.11"
  }
 },
 "nbformat": 4,
 "nbformat_minor": 4
}
